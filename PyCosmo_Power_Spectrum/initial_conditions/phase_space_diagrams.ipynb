{
 "cells": [
  {
   "cell_type": "markdown",
   "id": "8e2059cf",
   "metadata": {},
   "source": [
    "### PHASE SPACE DIAGRAM GENERATION"
   ]
  },
  {
   "cell_type": "markdown",
   "id": "a4b2c534",
   "metadata": {},
   "source": [
    "#### INITIAL CONDITIONS WITH PY-COSMO GENERATED POWER SPECTRUM"
   ]
  },
  {
   "cell_type": "code",
   "execution_count": 1,
   "id": "467628f6",
   "metadata": {},
   "outputs": [
    {
     "name": "stdout",
     "output_type": "stream",
     "text": [
      "Collecting duckdb\n",
      "  Downloading duckdb-1.3.0-cp311-cp311-manylinux_2_27_x86_64.manylinux_2_28_x86_64.whl.metadata (7.0 kB)\n",
      "Downloading duckdb-1.3.0-cp311-cp311-manylinux_2_27_x86_64.manylinux_2_28_x86_64.whl (21.1 MB)\n",
      "\u001b[2K   \u001b[90m━━━━━━━━━━━━━━━━━━━━━━━━━━━━━━━━━━━━━━━━\u001b[0m \u001b[32m21.1/21.1 MB\u001b[0m \u001b[31m11.4 MB/s\u001b[0m eta \u001b[36m0:00:00\u001b[0m00:01\u001b[0m00:01\u001b[0m\n",
      "\u001b[?25hInstalling collected packages: duckdb\n",
      "Successfully installed duckdb-1.3.0\n",
      "\n",
      "\u001b[1m[\u001b[0m\u001b[34;49mnotice\u001b[0m\u001b[1;39;49m]\u001b[0m\u001b[39;49m A new release of pip is available: \u001b[0m\u001b[31;49m25.0.1\u001b[0m\u001b[39;49m -> \u001b[0m\u001b[32;49m25.1.1\u001b[0m\n",
      "\u001b[1m[\u001b[0m\u001b[34;49mnotice\u001b[0m\u001b[1;39;49m]\u001b[0m\u001b[39;49m To update, run: \u001b[0m\u001b[32;49mpip install --upgrade pip\u001b[0m\n",
      "Note: you may need to restart the kernel to use updated packages.\n"
     ]
    }
   ],
   "source": [
    "%pip install duckdb"
   ]
  },
  {
   "cell_type": "code",
   "execution_count": 1,
   "id": "a09cc596",
   "metadata": {},
   "outputs": [],
   "source": [
    "import sys\n",
    "import os\n",
    "from pathlib import Path\n",
    "\n",
    "# Add the parent directory to the python path\n",
    "parent_dir = os.path.abspath(os.path.join(os.getcwd(), '..'))\n",
    "sys.path.append(parent_dir)\n",
    "\n",
    "# Get the directory of the current script\n",
    "sys.path.append(os.path.abspath(os.path.join(os.getcwd(), '../../')))\n",
    "\n",
    "script_dir = os.getcwd()"
   ]
  },
  {
   "cell_type": "code",
   "execution_count": 5,
   "id": "5c72ed49",
   "metadata": {},
   "outputs": [
    {
     "name": "stdout",
     "output_type": "stream",
     "text": [
      "    column0  column1  column2  column3  column4  column5 column6\n",
      "0       NaN      NaN      NaN      NaN      NaN      NaN        \n",
      "1       NaN      NaN      NaN      NaN      NaN      NaN        \n",
      "2       NaN      NaN      NaN      NaN      NaN      NaN        \n",
      "3       NaN      NaN      NaN      NaN      NaN      NaN        \n",
      "4       NaN      NaN      NaN      NaN      NaN      NaN        \n",
      "5       NaN      NaN      NaN      NaN      NaN      NaN        \n",
      "6       NaN      NaN      NaN      NaN      NaN      NaN        \n",
      "7       NaN      NaN      NaN      NaN      NaN      NaN        \n",
      "8       NaN      NaN      NaN      NaN      NaN      NaN        \n",
      "9       NaN      NaN      NaN      NaN      NaN      NaN        \n",
      "10      NaN      NaN      NaN      NaN      NaN      NaN        \n",
      "11      NaN      NaN      NaN      NaN      NaN      NaN        \n",
      "12      NaN      NaN      NaN      NaN      NaN      NaN        \n",
      "13      NaN      NaN      NaN      NaN      NaN      NaN        \n",
      "14      NaN      NaN      NaN      NaN      NaN      NaN        \n",
      "15      NaN      NaN      NaN      NaN      NaN      NaN        \n",
      "16      NaN      NaN      NaN      NaN      NaN      NaN        \n",
      "17      NaN      NaN      NaN      NaN      NaN      NaN        \n",
      "18      NaN      NaN      NaN      NaN      NaN      NaN        \n",
      "19      NaN      NaN      NaN      NaN      NaN      NaN        \n",
      "20      NaN      NaN      NaN      NaN      NaN      NaN        \n",
      "21      NaN      NaN      NaN      NaN      NaN      NaN        \n",
      "22      NaN      NaN      NaN      NaN      NaN      NaN        \n",
      "23      NaN      NaN      NaN      NaN      NaN      NaN        \n",
      "24      NaN      NaN      NaN      NaN      NaN      NaN        \n",
      "25      NaN      NaN      NaN      NaN      NaN      NaN        \n",
      "26      NaN      NaN      NaN      NaN      NaN      NaN        \n",
      "27      NaN      NaN      NaN      NaN      NaN      NaN        \n",
      "28      NaN      NaN      NaN      NaN      NaN      NaN        \n",
      "29      NaN      NaN      NaN      NaN      NaN      NaN        \n",
      "30      NaN      NaN      NaN      NaN      NaN      NaN        \n",
      "31      NaN      NaN      NaN      NaN      NaN      NaN        \n",
      "32      NaN      NaN      NaN      NaN      NaN      NaN        \n",
      "33      NaN      NaN      NaN      NaN      NaN      NaN        \n",
      "34      NaN      NaN      NaN      NaN      NaN      NaN        \n",
      "35      NaN      NaN      NaN      NaN      NaN      NaN        \n",
      "36      NaN      NaN      NaN      NaN      NaN      NaN        \n",
      "37      NaN      NaN      NaN      NaN      NaN      NaN        \n",
      "38      NaN      NaN      NaN      NaN      NaN      NaN        \n",
      "39      NaN      NaN      NaN      NaN      NaN      NaN        \n",
      "40      NaN      NaN      NaN      NaN      NaN      NaN        \n",
      "41      NaN      NaN      NaN      NaN      NaN      NaN        \n",
      "42      NaN      NaN      NaN      NaN      NaN      NaN        \n",
      "43      NaN      NaN      NaN      NaN      NaN      NaN        \n",
      "44      NaN      NaN      NaN      NaN      NaN      NaN        \n",
      "45      NaN      NaN      NaN      NaN      NaN      NaN        \n",
      "46      NaN      NaN      NaN      NaN      NaN      NaN        \n",
      "47      NaN      NaN      NaN      NaN      NaN      NaN        \n",
      "48      NaN      NaN      NaN      NaN      NaN      NaN        \n",
      "49      NaN      NaN      NaN      NaN      NaN      NaN        \n"
     ]
    }
   ],
   "source": [
    "import duckdb\n",
    "import matplotlib.pyplot as plt\n",
    "\n",
    "con = duckdb.connect()\n",
    "result = con.execute(\"SELECT * FROM 'lsf_pycosmo_512.csv' LIMIT 50\").fetchdf()\n",
    "print(result)\n"
   ]
  },
  {
   "cell_type": "code",
   "execution_count": null,
   "id": "f1e85dc7",
   "metadata": {},
   "outputs": [],
   "source": [
    "# Plot\n",
    "plt.scatter(df['x'], df['vx'], s=1, alpha=0.5)\n",
    "plt.xlabel(\"x\")\n",
    "plt.ylabel(\"vx\")\n",
    "plt.title(\"Phase Space Diagram\")\n",
    "plt.grid(True)\n",
    "plt.show()\n"
   ]
  }
 ],
 "metadata": {
  "kernelspec": {
   "display_name": "pycosmo_environment",
   "language": "python",
   "name": "python3"
  },
  "language_info": {
   "codemirror_mode": {
    "name": "ipython",
    "version": 3
   },
   "file_extension": ".py",
   "mimetype": "text/x-python",
   "name": "python",
   "nbconvert_exporter": "python",
   "pygments_lexer": "ipython3",
   "version": "3.11.11"
  }
 },
 "nbformat": 4,
 "nbformat_minor": 5
}
