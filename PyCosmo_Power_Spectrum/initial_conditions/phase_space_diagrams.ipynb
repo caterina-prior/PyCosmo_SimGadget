{
 "cells": [
  {
   "cell_type": "markdown",
   "id": "8e2059cf",
   "metadata": {},
   "source": [
    "### PHASE SPACE DIAGRAM GENERATION"
   ]
  },
  {
   "cell_type": "markdown",
   "id": "a4b2c534",
   "metadata": {},
   "source": [
    "#### INITIAL CONDITIONS WITH PY-COSMO GENERATED POWER SPECTRUM"
   ]
  },
  {
   "cell_type": "code",
   "execution_count": 5,
   "id": "467628f6",
   "metadata": {},
   "outputs": [
    {
     "name": "stdout",
     "output_type": "stream",
     "text": [
      "Requirement already satisfied: csv2parquet in /mnt/c/Users/kitty/pycosmo_environment/lib/python3.11/site-packages (0.0.9)\n",
      "\n",
      "\u001b[1m[\u001b[0m\u001b[34;49mnotice\u001b[0m\u001b[1;39;49m]\u001b[0m\u001b[39;49m A new release of pip is available: \u001b[0m\u001b[31;49m25.0.1\u001b[0m\u001b[39;49m -> \u001b[0m\u001b[32;49m25.1.1\u001b[0m\n",
      "\u001b[1m[\u001b[0m\u001b[34;49mnotice\u001b[0m\u001b[1;39;49m]\u001b[0m\u001b[39;49m To update, run: \u001b[0m\u001b[32;49mpip install --upgrade pip\u001b[0m\n",
      "Note: you may need to restart the kernel to use updated packages.\n"
     ]
    },
    {
     "name": "stderr",
     "output_type": "stream",
     "text": [
      "UsageError: Line magic function `%csv2parquet` not found.\n"
     ]
    }
   ],
   "source": [
    "%pip install csv2parquet\n",
    "%csv2parquet lsf_512.csv lsf_512.parquet"
   ]
  },
  {
   "cell_type": "code",
   "execution_count": 8,
   "id": "a09cc596",
   "metadata": {},
   "outputs": [],
   "source": [
    "import sys\n",
    "import os\n",
    "from pathlib import Path\n",
    "\n",
    "# Add the parent directory to the python path\n",
    "parent_dir = os.path.abspath(os.path.join(os.getcwd(), '..'))\n",
    "sys.path.append(parent_dir)\n",
    "\n",
    "# Get the directory of the current script\n",
    "sys.path.append(os.path.abspath(os.path.join(os.getcwd(), '../../')))\n",
    "\n",
    "script_dir = os.getcwd()"
   ]
  },
  {
   "cell_type": "code",
   "execution_count": 11,
   "id": "5c72ed49",
   "metadata": {},
   "outputs": [
    {
     "ename": "",
     "evalue": "",
     "output_type": "error",
     "traceback": [
      "\u001b[1;31mThe Kernel crashed while executing code in the current cell or a previous cell. \n",
      "\u001b[1;31mPlease review the code in the cell(s) to identify a possible cause of the failure. \n",
      "\u001b[1;31mClick <a href='https://aka.ms/vscodeJupyterKernelCrash'>here</a> for more info. \n",
      "\u001b[1;31mView Jupyter <a href='command:jupyter.viewOutput'>log</a> for further details."
     ]
    }
   ],
   "source": [
    "import duckdb\n",
    "import matplotlib.pyplot as plt\n",
    "\n",
    "# Run a SQL query directly on CSV\n",
    "con = duckdb.connect()\n",
    "df = con.execute(\"SELECT x, vx FROM 'initial_conditions.csv' LIMIT 100000\").fetchdf()\n",
    "\n",
    "# Plot\n",
    "plt.scatter(df['x'], df['vx'], s=1, alpha=0.5)\n",
    "plt.xlabel(\"x\")\n",
    "plt.ylabel(\"vx\")\n",
    "plt.title(\"Phase Space Diagram\")\n",
    "plt.grid(True)\n",
    "plt.show()\n"
   ]
  }
 ],
 "metadata": {
  "kernelspec": {
   "display_name": "pycosmo_environment",
   "language": "python",
   "name": "python3"
  },
  "language_info": {
   "codemirror_mode": {
    "name": "ipython",
    "version": 3
   },
   "file_extension": ".py",
   "mimetype": "text/x-python",
   "name": "python",
   "nbconvert_exporter": "python",
   "pygments_lexer": "ipython3",
   "version": "3.11.11"
  }
 },
 "nbformat": 4,
 "nbformat_minor": 5
}
